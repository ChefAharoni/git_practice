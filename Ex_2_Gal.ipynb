{
 "cells": [
  {
   "cell_type": "code",
   "execution_count": 11,
   "metadata": {
    "collapsed": true
   },
   "outputs": [
    {
     "name": "stdout",
     "output_type": "stream",
     "text": [
      "{'a': 3, 'b': 3}\n",
      "{'H': 1, 'e': 1, 'l': 3, 'o': 2, ' ': 1, 'w': 1, 'r': 1, 'd': 1, '!': 1}\n"
     ]
    }
   ],
   "source": [
    "def ltr_as_key(ss_str):\n",
    "    \"\"\"\n",
    "    The function that accepts a single string and outputs a dictionary (dict) with letters\n",
    "as keys, and the number of times they appear in the input string as values.\n",
    "    :param ss_str: A single string to be converted to a dictionary.\n",
    "    :return: A dictionary with letters as its keys and the number of times the appear in the input string.\n",
    "    \"\"\"\n",
    "    # ltr_counter = 0\n",
    "    dict_ltrs = {}\n",
    "    for ltr in ss_str:\n",
    "        dict_ltrs[ltr] = 0\n",
    "    for ltr in ss_str:\n",
    "        dict_ltrs[ltr] += 1\n",
    "\n",
    "    return dict_ltrs\n",
    "\n",
    "str_test_1 = 'aaabbb'\n",
    "str_test_2 = 'Hello world!'\n",
    "print (ltr_as_key(str_test_1))\n",
    "print (ltr_as_key(str_test_2))\n"
   ]
  }
 ],
 "metadata": {
  "kernelspec": {
   "display_name": "Python 3",
   "language": "python",
   "name": "python3"
  },
  "language_info": {
   "codemirror_mode": {
    "name": "ipython",
    "version": 2
   },
   "file_extension": ".py",
   "mimetype": "text/x-python",
   "name": "python",
   "nbconvert_exporter": "python",
   "pygments_lexer": "ipython2",
   "version": "2.7.6"
  }
 },
 "nbformat": 4,
 "nbformat_minor": 0
}
