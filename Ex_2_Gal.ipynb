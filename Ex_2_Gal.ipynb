{
 "cells": [
  {
   "cell_type": "code",
   "execution_count": 2,
   "metadata": {
    "collapsed": true
   },
   "outputs": [
    {
     "name": "stdout",
     "output_type": "stream",
     "text": [
      "{'a': 3, 'b': 3}\n",
      "{'H': 1, 'e': 1, 'l': 3, 'o': 2, ' ': 1, 'w': 1, 'r': 1, 'd': 1, '!': 1}\n"
     ]
    }
   ],
   "source": [
    "def ltr_as_key(ss_str):\n",
    "    \"\"\"\n",
    "    The function accepts a single string and outputs a dictionary (dict) with letters as keys, and the number of times they appear in the input string as values.\n",
    "    :param ss_str: A single string to be converted to a dictionary.\n",
    "    :return: A dictionary with letters as its keys and the number of times they appear in the input string.\n",
    "    \"\"\"\n",
    "    dict_ltrs = {}\n",
    "    for ltr in ss_str:\n",
    "        if ltr in dict_ltrs:\n",
    "            dict_ltrs[ltr] += 1  # If the ltr is in the dict, inc. by 1.\n",
    "        else:\n",
    "            dict_ltrs[ltr] = 1  # If ltr is not in dict = append the ltr to the dict and assign to 1.\n",
    "\n",
    "    return dict_ltrs\n",
    "\n",
    "str_test_1 = 'aaabbb'\n",
    "str_test_2 = 'Hello world!'\n",
    "print (ltr_as_key(str_test_1))\n",
    "print (ltr_as_key(str_test_2))\n"
   ]
  },
  {
   "cell_type": "code",
   "execution_count": 3,
   "outputs": [
    {
     "name": "stdout",
     "output_type": "stream",
     "text": [
      "['b', 'a']\n",
      "['H', 'w', '!', 'd', 'e', 'r', 'l', 'o']\n"
     ]
    }
   ],
   "source": [
    "def dif_lst_chr(ss_str):\n",
    "    \"\"\"\n",
    "    The function accepts a single string and outputs a list of the different characters that appear in it.\n",
    "    :param ss_str: A single string to be looked for.\n",
    "    :return: A list with the unique letters from the string.\n",
    "    \"\"\"\n",
    "\n",
    "    # Method 1 - using list iteration.\n",
    "    # uniq_ltrs = []\n",
    "    # for chrt in ss_str:\n",
    "    #     if chrt not in uniq_ltrs:\n",
    "    #         uniq_ltrs.append(chrt)\n",
    "\n",
    "    uniq_ltrs = set(ss_str)  # Enters all values into a set.\n",
    "    uniq_ltrs = list(uniq_ltrs)  # Converts the set into a list.\n",
    "\n",
    "    for i in uniq_ltrs:  # Removing every whitespace if exists in list.\n",
    "        if i == ' ':\n",
    "            uniq_ltrs.remove(' ')\n",
    "\n",
    "    return uniq_ltrs\n",
    "\n",
    "print(dif_lst_chr(str_test_1))\n",
    "print(dif_lst_chr(str_test_2))"
   ],
   "metadata": {
    "collapsed": false
   }
  },
  {
   "cell_type": "code",
   "execution_count": 2,
   "outputs": [
    {
     "name": "stdout",
     "output_type": "stream",
     "text": [
      "{'math': 100, 'english': 70, 'sociology': 90}\n",
      "{'test': 85, 'psy': 60}\n",
      "{4: 64, 5: 125, 6: 216, 7: 343, 8: 512, 9: 729, 10: 1000, 11: 1331, 12: 1728, 13: 2197, 14: 2744, 15: 3375, 16: 4096, 17: 4913, 18: 5832, 19: 6859, 20: 8000, 21: 9261, 22: 10648, 23: 12167, 24: 13824}\n"
     ]
    }
   ],
   "source": [
    "def check_min_val(c_dict, min_val):\n",
    "    \"\"\"\n",
    "    The function accepts a dictionary and a minimum-value, and returns a dictionary where all the keys associated with smaller values were removed.\n",
    "    :param min_val: The minimum value to be checked in the dict.\n",
    "    :param c_dict: The dictionary to be checked for min vals.\n",
    "    :return: The dictionary without the min val defined.\n",
    "    \"\"\"\n",
    "\n",
    "    for key, value in list(c_dict.items()):  # Copying the dictionary to a list so it can be iterated and modified; avoiding run-time error.\n",
    "        if value < min_val:  # Checks if the value is smaller than the min val defined.\n",
    "            c_dict.pop(key)  # If value is smaller - removes the item from the dict.\n",
    "\n",
    "    return c_dict\n",
    "\n",
    "\n",
    "dict_check = {'math':100, 'english':70, 'geography':50, 'science':30, 'sociology':90}\n",
    "dict2_check = {'test': 85, 'psy': 60}\n",
    "dict_comp_check = {x: x**3 for x in range(25)}\n",
    "print(check_min_val(dict_check, 60))\n",
    "print(check_min_val(dict2_check, 60))\n",
    "print(check_min_val(dict_comp_check, 60))"
   ],
   "metadata": {
    "collapsed": false
   }
  }
 ],
 "metadata": {
  "kernelspec": {
   "display_name": "Python 3",
   "language": "python",
   "name": "python3"
  },
  "language_info": {
   "codemirror_mode": {
    "name": "ipython",
    "version": 2
   },
   "file_extension": ".py",
   "mimetype": "text/x-python",
   "name": "python",
   "nbconvert_exporter": "python",
   "pygments_lexer": "ipython2",
   "version": "2.7.6"
  }
 },
 "nbformat": 4,
 "nbformat_minor": 0
}
